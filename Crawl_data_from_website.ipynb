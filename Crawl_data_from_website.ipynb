{
 "cells": [
  {
   "cell_type": "code",
   "execution_count": 25,
   "id": "d4697af2",
   "metadata": {},
   "outputs": [],
   "source": [
    "import requests\n",
    "from bs4 import BeautifulSoup\n",
    "import pandas as pd\n",
    "import numpy as np"
   ]
  },
  {
   "cell_type": "code",
   "execution_count": 26,
   "id": "12b5aaee",
   "metadata": {},
   "outputs": [],
   "source": [
    "url = 'https://giavangvietnam.com/bieu-do-gia-vang-sjc-6-thang-truoc/'\n",
    "page = requests.get(url)\n",
    "soup = BeautifulSoup(page.text, 'lxml')"
   ]
  },
  {
   "cell_type": "code",
   "execution_count": 27,
   "id": "b899580f",
   "metadata": {},
   "outputs": [],
   "source": [
    "chart = soup.find('div', class_='j-data-chart')\n",
    "chart = str(chart)"
   ]
  },
  {
   "cell_type": "code",
   "execution_count": 28,
   "id": "351f2a4b",
   "metadata": {},
   "outputs": [],
   "source": [
    "date = chart[chart.index('data-date') + 12:chart.index('data-value') - 3]\n",
    "#date = pd.Series(date.split(\",\"))\n",
    "#date"
   ]
  },
  {
   "cell_type": "code",
   "execution_count": 29,
   "id": "c58d0768",
   "metadata": {},
   "outputs": [],
   "source": [
    "buy =  chart[chart.index('buy') + 6:chart.index('sell') - 3]\n",
    "#buy = pd.Series(buy.split(\",\"))\n",
    "#buy"
   ]
  },
  {
   "cell_type": "code",
   "execution_count": 30,
   "id": "cae6be13",
   "metadata": {},
   "outputs": [],
   "source": [
    "sell = chart[chart.index('sell') + 7:chart.index('>') - 3]\n",
    "#sell = pd.Series(sell.split(\",\"))\n",
    "#sell"
   ]
  },
  {
   "cell_type": "code",
   "execution_count": 31,
   "id": "f863fd25",
   "metadata": {},
   "outputs": [],
   "source": [
    "data = {'Date': pd.Series(date.split(\",\")),\n",
    "        'Buy': pd.Series(buy.split(\",\")),\n",
    "        'Sell': pd.Series(sell.split(\",\"))}\n",
    "\n",
    "df = pd.DataFrame(data)\n",
    "df.to_csv('test.csv', encoding='utf-8')"
   ]
  },
  {
   "cell_type": "code",
   "execution_count": 32,
   "id": "e3a45809",
   "metadata": {},
   "outputs": [
    {
     "data": {
      "text/html": [
       "<div>\n",
       "<style scoped>\n",
       "    .dataframe tbody tr th:only-of-type {\n",
       "        vertical-align: middle;\n",
       "    }\n",
       "\n",
       "    .dataframe tbody tr th {\n",
       "        vertical-align: top;\n",
       "    }\n",
       "\n",
       "    .dataframe thead th {\n",
       "        text-align: right;\n",
       "    }\n",
       "</style>\n",
       "<table border=\"1\" class=\"dataframe\">\n",
       "  <thead>\n",
       "    <tr style=\"text-align: right;\">\n",
       "      <th></th>\n",
       "      <th>Unnamed: 0</th>\n",
       "      <th>Date</th>\n",
       "      <th>Buy</th>\n",
       "      <th>Sell</th>\n",
       "    </tr>\n",
       "  </thead>\n",
       "  <tbody>\n",
       "    <tr>\n",
       "      <th>0</th>\n",
       "      <td>0</td>\n",
       "      <td>\"2022-04-16 00:00:02\"</td>\n",
       "      <td>69100000</td>\n",
       "      <td>69700000</td>\n",
       "    </tr>\n",
       "    <tr>\n",
       "      <th>1</th>\n",
       "      <td>1</td>\n",
       "      <td>\"2022-04-16 08:34:02\"</td>\n",
       "      <td>69150000</td>\n",
       "      <td>69800000</td>\n",
       "    </tr>\n",
       "    <tr>\n",
       "      <th>2</th>\n",
       "      <td>2</td>\n",
       "      <td>\"2022-04-16 10:30:02\"</td>\n",
       "      <td>69200000</td>\n",
       "      <td>69850000</td>\n",
       "    </tr>\n",
       "    <tr>\n",
       "      <th>3</th>\n",
       "      <td>3</td>\n",
       "      <td>\"2022-04-17 00:00:02\"</td>\n",
       "      <td>69200000</td>\n",
       "      <td>69850000</td>\n",
       "    </tr>\n",
       "    <tr>\n",
       "      <th>4</th>\n",
       "      <td>4</td>\n",
       "      <td>\"2022-04-18 00:00:02\"</td>\n",
       "      <td>69200000</td>\n",
       "      <td>69850000</td>\n",
       "    </tr>\n",
       "    <tr>\n",
       "      <th>...</th>\n",
       "      <td>...</td>\n",
       "      <td>...</td>\n",
       "      <td>...</td>\n",
       "      <td>...</td>\n",
       "    </tr>\n",
       "    <tr>\n",
       "      <th>836</th>\n",
       "      <td>836</td>\n",
       "      <td>\"2022-10-12 08:30:01\"</td>\n",
       "      <td>66000000</td>\n",
       "      <td>67000000</td>\n",
       "    </tr>\n",
       "    <tr>\n",
       "      <th>837</th>\n",
       "      <td>837</td>\n",
       "      <td>\"2022-10-12 09:22:01\"</td>\n",
       "      <td>65900000</td>\n",
       "      <td>66900000</td>\n",
       "    </tr>\n",
       "    <tr>\n",
       "      <th>838</th>\n",
       "      <td>838</td>\n",
       "      <td>\"2022-10-12 11:06:01\"</td>\n",
       "      <td>66000000</td>\n",
       "      <td>67000000</td>\n",
       "    </tr>\n",
       "    <tr>\n",
       "      <th>839</th>\n",
       "      <td>839</td>\n",
       "      <td>\"2022-10-12 15:16:02\"</td>\n",
       "      <td>65900000</td>\n",
       "      <td>66900000</td>\n",
       "    </tr>\n",
       "    <tr>\n",
       "      <th>840</th>\n",
       "      <td>840</td>\n",
       "      <td>\"2022-10-13 00:00:02\"</td>\n",
       "      <td>65900000</td>\n",
       "      <td>66900000</td>\n",
       "    </tr>\n",
       "  </tbody>\n",
       "</table>\n",
       "<p>841 rows × 4 columns</p>\n",
       "</div>"
      ],
      "text/plain": [
       "     Unnamed: 0                   Date       Buy      Sell\n",
       "0             0  \"2022-04-16 00:00:02\"  69100000  69700000\n",
       "1             1  \"2022-04-16 08:34:02\"  69150000  69800000\n",
       "2             2  \"2022-04-16 10:30:02\"  69200000  69850000\n",
       "3             3  \"2022-04-17 00:00:02\"  69200000  69850000\n",
       "4             4  \"2022-04-18 00:00:02\"  69200000  69850000\n",
       "..          ...                    ...       ...       ...\n",
       "836         836  \"2022-10-12 08:30:01\"  66000000  67000000\n",
       "837         837  \"2022-10-12 09:22:01\"  65900000  66900000\n",
       "838         838  \"2022-10-12 11:06:01\"  66000000  67000000\n",
       "839         839  \"2022-10-12 15:16:02\"  65900000  66900000\n",
       "840         840  \"2022-10-13 00:00:02\"  65900000  66900000\n",
       "\n",
       "[841 rows x 4 columns]"
      ]
     },
     "execution_count": 32,
     "metadata": {},
     "output_type": "execute_result"
    }
   ],
   "source": [
    "my_data = pd.read_csv('test.csv')\n",
    "my_data"
   ]
  }
 ],
 "metadata": {
  "kernelspec": {
   "display_name": "Python 3.10.5 64-bit",
   "language": "python",
   "name": "python3"
  },
  "language_info": {
   "codemirror_mode": {
    "name": "ipython",
    "version": 3
   },
   "file_extension": ".py",
   "mimetype": "text/x-python",
   "name": "python",
   "nbconvert_exporter": "python",
   "pygments_lexer": "ipython3",
   "version": "3.10.5"
  },
  "vscode": {
   "interpreter": {
    "hash": "3196968d684371006099b3d55edeef8ed90365227a30deaef86e5d4aa8519be0"
   }
  }
 },
 "nbformat": 4,
 "nbformat_minor": 5
}
